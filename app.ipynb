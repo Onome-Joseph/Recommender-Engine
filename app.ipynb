{
 "cells": [
  {
   "cell_type": "code",
   "execution_count": 6,
   "id": "e2d3ddbf-1f46-4485-bd7b-1e7b15e8ae97",
   "metadata": {},
   "outputs": [],
   "source": [
    "from transformers import AutoTokenizer, AutoModel\n",
    "import torch\n",
    "import torch.nn.functional as F"
   ]
  },
  {
   "cell_type": "code",
   "execution_count": 11,
   "id": "132bd8e5-6d94-4c7f-ba7e-a9e69719afe1",
   "metadata": {},
   "outputs": [
    {
     "name": "stdout",
     "output_type": "stream",
     "text": [
      " * Serving Flask app '__main__'\n",
      " * Debug mode: on\n"
     ]
    },
    {
     "name": "stderr",
     "output_type": "stream",
     "text": [
      "WARNING: This is a development server. Do not use it in a production deployment. Use a production WSGI server instead.\n",
      " * Running on http://127.0.0.1:5000\n",
      "Press CTRL+C to quit\n",
      "127.0.0.1 - - [03/Jun/2025 13:42:47] \"GET / HTTP/1.1\" 200 -\n",
      "127.0.0.1 - - [03/Jun/2025 13:43:24] \"POST / HTTP/1.1\" 200 -\n",
      "127.0.0.1 - - [03/Jun/2025 13:43:55] \"POST / HTTP/1.1\" 200 -\n"
     ]
    }
   ],
   "source": [
    "from flask import Flask, request, render_template\n",
    "import pandas as pd\n",
    "import numpy as np\n",
    "from sentence_transformers import SentenceTransformer\n",
    "from sklearn.metrics.pairwise import cosine_similarity\n",
    "\n",
    "# Load data and model\n",
    "final_data = pd.read_csv(\"final_data.csv\")\n",
    "embeddings = np.load(\"embeddings.npy\")\n",
    "model = SentenceTransformer('sentence-transformers/all-MiniLM-L6-v2')\n",
    "\n",
    "\n",
    "# Flask app\n",
    "app = Flask(__name__)\n",
    "\n",
    "def get_recommendations(query, embeddings, model, data, top_n=10):\n",
    "    query_embedding = model.encode([query])\n",
    "    similarities = cosine_similarity(query_embedding, embeddings)\n",
    "    top_indices = similarities[0].argsort()[-top_n:][::-1]\n",
    "    return data.iloc[top_indices]\n",
    "\n",
    "@app.route('/', methods=['GET', 'POST'])\n",
    "def index():\n",
    "    recommendations = None\n",
    "    query = \"\"\n",
    "    top_n = 10  # default\n",
    "\n",
    "    if request.method == 'POST':\n",
    "        query = request.form['query']\n",
    "        try:\n",
    "            top_n = int(request.form.get('top_n'))\n",
    "        except ValueError:\n",
    "            top_n = 10\n",
    "\n",
    "        recommendations = get_recommendations(query, embeddings, model, final_data, top_n=top_n)\n",
    "    return render_template('front6.html', recommendations=recommendations, query=query, top_n=top_n)\n",
    "\n",
    "if __name__ == '__main__':\n",
    "    import os\n",
    "    os.environ['FLASK_ENV'] = 'development'\n",
    "    app.run(debug=True, use_reloader=False)\n",
    "\n"
   ]
  },
  {
   "cell_type": "code",
   "execution_count": null,
   "id": "f8a1217f-23a3-49ae-8fd0-7d540547878f",
   "metadata": {},
   "outputs": [],
   "source": []
  }
 ],
 "metadata": {
  "kernelspec": {
   "display_name": "Python 3",
   "language": "python",
   "name": "python3"
  },
  "language_info": {
   "codemirror_mode": {
    "name": "ipython",
    "version": 3
   },
   "file_extension": ".py",
   "mimetype": "text/x-python",
   "name": "python",
   "nbconvert_exporter": "python",
   "pygments_lexer": "ipython3",
   "version": "3.11.3"
  }
 },
 "nbformat": 4,
 "nbformat_minor": 5
}
